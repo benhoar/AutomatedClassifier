{
 "cells": [
  {
   "cell_type": "code",
   "execution_count": 37,
   "metadata": {},
   "outputs": [
    {
     "name": "stdout",
     "output_type": "stream",
     "text": [
      "Pushing: 1\n",
      "Done Push\n",
      "Pushing: 4\n",
      "Self: 4, Other: 1\n",
      "Done Push\n",
      "Pushing: 5\n",
      "Self: 5, Other: 4\n",
      "Done Push\n",
      "Pushing: 3\n",
      "Self: 3, Other: 1\n",
      "Self: 3, Other: 5\n",
      "Done Push\n",
      "Pushing: 6\n",
      "Self: 6, Other: 3\n",
      "Self: 6, Other: 5\n",
      "Done Push\n",
      "Pushing: 7\n",
      "Self: 7, Other: 4\n",
      "Self: 7, Other: 6\n",
      "Done Push\n",
      "Self: 5, Other: 6\n",
      "Self: 4, Other: 6\n",
      "7\n",
      "Self: 5, Other: 4\n",
      "Self: 3, Other: 1\n",
      "Self: 3, Other: 5\n",
      "6\n",
      "Self: 3, Other: 4\n",
      "Self: 1, Other: 4\n",
      "5\n",
      "Self: 1, Other: 3\n",
      "4\n",
      "3\n",
      "1\n",
      "we learn something new everyday: who knew\n"
     ]
    }
   ],
   "source": [
    "from heapq import heapify, heappop as hpop, heappush as hpush\n",
    "class Number:\n",
    "   def __init__(self, x):\n",
    "      self.x = x\n",
    "   \n",
    "   def __lt__(self, other):\n",
    "      print(f'Self: {self.x}, Other: {other.x}')\n",
    "      return self.x > other.x\n",
    "   \n",
    "nums = [1,4,5,3,6,7]\n",
    "num_objs = []\n",
    "for n in nums:\n",
    "   print(f'Pushing: {n}')\n",
    "   hpush(num_objs, Number(n))\n",
    "   print(\"Done Push\")\n",
    "while num_objs:\n",
    "   print(hpop(num_objs).x)\n",
    "print(\"we learn something new everyday: \", end=\"\")\n",
    "print(\"who knew\")\n"
   ]
  },
  {
   "cell_type": "code",
   "execution_count": 16,
   "metadata": {},
   "outputs": [
    {
     "name": "stdout",
     "output_type": "stream",
     "text": [
      "7, 1\n",
      "1, 1\n",
      "16, 1\n",
      "7, 1\n",
      "8, 1\n"
     ]
    }
   ],
   "source": [
    "from collections import namedtuple\n",
    "from random import randint as rint\n",
    "from heapq import heapify, heappop as hpop\n",
    "\n",
    "class Point:\n",
    "   def __init__(self, x, y):\n",
    "      self.x = x\n",
    "      self.y = y\n",
    "\n",
    "Point.__str__ = lambda p1 : f'{p1.x}, {p1.y}'\n",
    "Point.__lt__ = lambda p1, p2: p1.y < p2.y \n",
    "\n",
    "mynums = [] \n",
    "for _ in range(5):\n",
    "   mynums.append(Point(rint(0, 20), 1))\n",
    "heapify(mynums)\n",
    "while mynums:\n",
    "   print(hpop(mynums))\n",
    "\n"
   ]
  },
  {
   "cell_type": "code",
   "execution_count": 20,
   "metadata": {},
   "outputs": [
    {
     "name": "stderr",
     "output_type": "stream",
     "text": [
      "ERROR:root:uh oh :(\n"
     ]
    }
   ],
   "source": [
    "import logging\n",
    "\n",
    "def source_of_logs():\n",
    "\tlogging.debug(\"debug info\")\n",
    "\tlogging.info(\"just some info\")\n",
    "\tlogging.error(\"uh oh :(\")\n",
    "\n",
    "def main():\n",
    "   level = logging.DEBUG\n",
    "   fmt = '[%(levelname)s] %(asctime)s - %(message)s'\n",
    "   logging.basicConfig(level=level, format=fmt)\n",
    "   source_of_logs()\n"
   ]
  },
  {
   "cell_type": "code",
   "execution_count": 3,
   "metadata": {},
   "outputs": [
    {
     "name": "stdout",
     "output_type": "stream",
     "text": [
      "9: 8\n",
      "10: 3\n",
      "5: 2\n",
      "2: 1\n",
      "[(9, 8), (10, 3), (5, 2), (2, 1)]\n"
     ]
    }
   ],
   "source": [
    "from collections import Counter\n",
    "my_list = [10,10,10,5,5,2,9,9,9,9,9,9,9,9]\n",
    "counter = Counter(my_list).most_common()\n",
    "for num, count in counter:\n",
    "   print(f'{num}: {count}')\n",
    "print(counter)"
   ]
  },
  {
   "cell_type": "code",
   "execution_count": 5,
   "metadata": {},
   "outputs": [
    {
     "name": "stdout",
     "output_type": "stream",
     "text": [
      "[0, 0, 5, 0, 0, 0]\n",
      "[0, 0, 5, 0, 0, 0]\n",
      "[0, 0, 5, 0, 0, 0]\n",
      "[0, 0, 5, 0, 0, 0]\n"
     ]
    },
    {
     "ename": "TypeError",
     "evalue": "cannot unpack non-iterable int object",
     "output_type": "error",
     "traceback": [
      "\u001b[0;31m---------------------------------------------------------------------------\u001b[0m",
      "\u001b[0;31mTypeError\u001b[0m                                 Traceback (most recent call last)",
      "\u001b[0;32m<ipython-input-5-e5d3fe1785a8>\u001b[0m in \u001b[0;36m<module>\u001b[0;34m\u001b[0m\n\u001b[1;32m      8\u001b[0m    \u001b[0mprint\u001b[0m\u001b[0;34m(\u001b[0m\u001b[0mrow\u001b[0m\u001b[0;34m)\u001b[0m\u001b[0;34m\u001b[0m\u001b[0;34m\u001b[0m\u001b[0m\n\u001b[1;32m      9\u001b[0m \u001b[0;34m\u001b[0m\u001b[0m\n\u001b[0;32m---> 10\u001b[0;31m \u001b[0ma\u001b[0m\u001b[0;34m,\u001b[0m \u001b[0mb\u001b[0m \u001b[0;34m=\u001b[0m \u001b[0;36m5\u001b[0m\u001b[0;34m\u001b[0m\u001b[0;34m\u001b[0m\u001b[0m\n\u001b[0m\u001b[1;32m     11\u001b[0m \u001b[0ma\u001b[0m\u001b[0;34m,\u001b[0m \u001b[0mb\u001b[0m\u001b[0;34m\u001b[0m\u001b[0;34m\u001b[0m\u001b[0m\n",
      "\u001b[0;31mTypeError\u001b[0m: cannot unpack non-iterable int object"
     ]
    }
   ],
   "source": [
    "a = \"horse\"\n",
    "b = \"ros\"\n",
    "c = len(a)\n",
    "r = len(b)\n",
    "memo = [[0]*(c+1)]*(r+1)\n",
    "memo[2][2] = 5\n",
    "for row in memo:\n",
    "   print(row)\n",
    "\n",
    "a, b = 5\n",
    "a, b"
   ]
  }
 ],
 "metadata": {
  "kernelspec": {
   "display_name": "Python 3.9.4 64-bit",
   "language": "python",
   "name": "python3"
  },
  "language_info": {
   "codemirror_mode": {
    "name": "ipython",
    "version": 3
   },
   "file_extension": ".py",
   "mimetype": "text/x-python",
   "name": "python",
   "nbconvert_exporter": "python",
   "pygments_lexer": "ipython3",
   "version": "3.9.4"
  },
  "orig_nbformat": 4,
  "vscode": {
   "interpreter": {
    "hash": "aee8b7b246df8f9039afb4144a1f6fd8d2ca17a180786b69acc140d282b71a49"
   }
  }
 },
 "nbformat": 4,
 "nbformat_minor": 2
}
